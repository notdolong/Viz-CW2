{
 "cells": [
  {
   "cell_type": "code",
   "execution_count": 17,
   "metadata": {},
   "outputs": [],
   "source": [
    "# Import libraries/packages\n",
    "from dash import Dash, html, dcc\n",
    "from dash.dependencies import Input,Output\n",
    "import plotly.express as px\n",
    "import pandas as pd\n",
    "\n",
    "# Incorporate data\n",
    "home = pd.read_csv(r'D:\\Documents\\Master\\Term 1\\Data Visualization\\CW2\\Dataset\\home_page_table.csv')\n",
    "search = pd.read_csv(r'D:\\Documents\\Master\\Term 1\\Data Visualization\\CW2\\Dataset\\search_page_table.csv')\n",
    "payment = pd.read_csv(r'D:\\Documents\\Master\\Term 1\\Data Visualization\\CW2\\Dataset\\payment_page_table.csv')\n",
    "confirmation = pd.read_csv(r'D:\\Documents\\Master\\Term 1\\Data Visualization\\CW2\\Dataset\\payment_confirmation_table.csv')\n",
    "user = pd.read_csv(r'D:\\Documents\\Master\\Term 1\\Data Visualization\\CW2\\Dataset\\user_table.csv')\n",
    " "
   ]
  },
  {
   "cell_type": "code",
   "execution_count": 48,
   "metadata": {},
   "outputs": [
    {
     "ename": "TypeError",
     "evalue": "Can only merge Series or DataFrame objects, a <class 'tuple'> was passed",
     "output_type": "error",
     "traceback": [
      "\u001b[1;31m---------------------------------------------------------------------------\u001b[0m",
      "\u001b[1;31mTypeError\u001b[0m                                 Traceback (most recent call last)",
      "\u001b[1;32mUntitled-2.ipynb Cell 2\u001b[0m line \u001b[0;36m6\n\u001b[0;32m      <a href='vscode-notebook-cell:Untitled-2.ipynb?jupyter-notebook#W3sdW50aXRsZWQ%3D?line=2'>3</a>\u001b[0m all_data \u001b[39m=\u001b[39m pd\u001b[39m.\u001b[39mDataFrame()\n\u001b[0;32m      <a href='vscode-notebook-cell:Untitled-2.ipynb?jupyter-notebook#W3sdW50aXRsZWQ%3D?line=4'>5</a>\u001b[0m \u001b[39mfor\u001b[39;00m df \u001b[39min\u001b[39;00m data_frames\u001b[39m.\u001b[39mitems():\n\u001b[1;32m----> <a href='vscode-notebook-cell:Untitled-2.ipynb?jupyter-notebook#W3sdW50aXRsZWQ%3D?line=5'>6</a>\u001b[0m     all_data \u001b[39m=\u001b[39m pd\u001b[39m.\u001b[39;49mmerge(all_data, df, on\u001b[39m=\u001b[39;49m\u001b[39m'\u001b[39;49m\u001b[39muser_id\u001b[39;49m\u001b[39m'\u001b[39;49m, how\u001b[39m=\u001b[39;49m\u001b[39m'\u001b[39;49m\u001b[39mleft\u001b[39;49m\u001b[39m'\u001b[39;49m)\n\u001b[0;32m      <a href='vscode-notebook-cell:Untitled-2.ipynb?jupyter-notebook#W3sdW50aXRsZWQ%3D?line=7'>8</a>\u001b[0m \u001b[39mprint\u001b[39m(all_data)\n\u001b[0;32m     <a href='vscode-notebook-cell:Untitled-2.ipynb?jupyter-notebook#W3sdW50aXRsZWQ%3D?line=9'>10</a>\u001b[0m \u001b[39m#all_data = pd.merge(user,home, on='user_id', how = 'left')\u001b[39;00m\n\u001b[0;32m     <a href='vscode-notebook-cell:Untitled-2.ipynb?jupyter-notebook#W3sdW50aXRsZWQ%3D?line=10'>11</a>\u001b[0m \u001b[39m#all_data = pd.merge(all_data, search, on='user_id', how='left')\u001b[39;00m\n\u001b[0;32m     <a href='vscode-notebook-cell:Untitled-2.ipynb?jupyter-notebook#W3sdW50aXRsZWQ%3D?line=11'>12</a>\u001b[0m \n\u001b[0;32m     <a href='vscode-notebook-cell:Untitled-2.ipynb?jupyter-notebook#W3sdW50aXRsZWQ%3D?line=12'>13</a>\u001b[0m \u001b[39m# Merge dataframes one by one\u001b[39;00m\n\u001b[0;32m     <a href='vscode-notebook-cell:Untitled-2.ipynb?jupyter-notebook#W3sdW50aXRsZWQ%3D?line=13'>14</a>\u001b[0m \u001b[39m# merged_df = pd.merge(df1, df2, on='ID', how='inner')\u001b[39;00m\n\u001b[0;32m     <a href='vscode-notebook-cell:Untitled-2.ipynb?jupyter-notebook#W3sdW50aXRsZWQ%3D?line=14'>15</a>\u001b[0m \u001b[39m# merged_df = pd.merge(merged_df, df3, on='ID', how='inner')\u001b[39;00m\n",
      "File \u001b[1;32md:\\Documents\\Master\\Term 1\\Data Visualization\\CW2\\.venv\\Lib\\site-packages\\pandas\\core\\reshape\\merge.py:152\u001b[0m, in \u001b[0;36mmerge\u001b[1;34m(left, right, how, on, left_on, right_on, left_index, right_index, sort, suffixes, copy, indicator, validate)\u001b[0m\n\u001b[0;32m    134\u001b[0m \u001b[39m@Substitution\u001b[39m(\u001b[39m\"\u001b[39m\u001b[39m\\n\u001b[39;00m\u001b[39mleft : DataFrame or named Series\u001b[39m\u001b[39m\"\u001b[39m)\n\u001b[0;32m    135\u001b[0m \u001b[39m@Appender\u001b[39m(_merge_doc, indents\u001b[39m=\u001b[39m\u001b[39m0\u001b[39m)\n\u001b[0;32m    136\u001b[0m \u001b[39mdef\u001b[39;00m \u001b[39mmerge\u001b[39m(\n\u001b[1;32m   (...)\u001b[0m\n\u001b[0;32m    149\u001b[0m     validate: \u001b[39mstr\u001b[39m \u001b[39m|\u001b[39m \u001b[39mNone\u001b[39;00m \u001b[39m=\u001b[39m \u001b[39mNone\u001b[39;00m,\n\u001b[0;32m    150\u001b[0m ) \u001b[39m-\u001b[39m\u001b[39m>\u001b[39m DataFrame:\n\u001b[0;32m    151\u001b[0m     left_df \u001b[39m=\u001b[39m _validate_operand(left)\n\u001b[1;32m--> 152\u001b[0m     right_df \u001b[39m=\u001b[39m _validate_operand(right)\n\u001b[0;32m    153\u001b[0m     \u001b[39mif\u001b[39;00m how \u001b[39m==\u001b[39m \u001b[39m\"\u001b[39m\u001b[39mcross\u001b[39m\u001b[39m\"\u001b[39m:\n\u001b[0;32m    154\u001b[0m         \u001b[39mreturn\u001b[39;00m _cross_merge(\n\u001b[0;32m    155\u001b[0m             left_df,\n\u001b[0;32m    156\u001b[0m             right_df,\n\u001b[1;32m   (...)\u001b[0m\n\u001b[0;32m    166\u001b[0m             copy\u001b[39m=\u001b[39mcopy,\n\u001b[0;32m    167\u001b[0m         )\n",
      "File \u001b[1;32md:\\Documents\\Master\\Term 1\\Data Visualization\\CW2\\.venv\\Lib\\site-packages\\pandas\\core\\reshape\\merge.py:2632\u001b[0m, in \u001b[0;36m_validate_operand\u001b[1;34m(obj)\u001b[0m\n\u001b[0;32m   2630\u001b[0m     \u001b[39mreturn\u001b[39;00m obj\u001b[39m.\u001b[39mto_frame()\n\u001b[0;32m   2631\u001b[0m \u001b[39melse\u001b[39;00m:\n\u001b[1;32m-> 2632\u001b[0m     \u001b[39mraise\u001b[39;00m \u001b[39mTypeError\u001b[39;00m(\n\u001b[0;32m   2633\u001b[0m         \u001b[39mf\u001b[39m\u001b[39m\"\u001b[39m\u001b[39mCan only merge Series or DataFrame objects, a \u001b[39m\u001b[39m{\u001b[39;00m\u001b[39mtype\u001b[39m(obj)\u001b[39m}\u001b[39;00m\u001b[39m was passed\u001b[39m\u001b[39m\"\u001b[39m\n\u001b[0;32m   2634\u001b[0m     )\n",
      "\u001b[1;31mTypeError\u001b[0m: Can only merge Series or DataFrame objects, a <class 'tuple'> was passed"
     ]
    }
   ],
   "source": [
    "# Merge files into one dataframe\n",
    "data_frames = {'home': home, 'search': search, 'payment': payment, 'confirmation':confirmation}\n",
    "all_data = pd.DataFrame()\n",
    "\n",
    "for df in data_frames.items():\n",
    "    all_data = pd.merge(all_data, df, on='user_id', how='left')\n",
    "\n",
    "print(all_data)\n",
    "\n",
    "#all_data = pd.merge(user,home, on='user_id', how = 'left')\n",
    "#all_data = pd.merge(all_data, search, on='user_id', how='left')\n",
    "\n",
    "# Merge dataframes one by one\n",
    "# merged_df = pd.merge(df1, df2, on='ID', how='inner')\n",
    "# merged_df = pd.merge(merged_df, df3, on='ID', how='inner')"
   ]
  },
  {
   "cell_type": "code",
   "execution_count": 22,
   "metadata": {},
   "outputs": [
    {
     "data": {
      "text/plain": [
       "90400"
      ]
     },
     "execution_count": 22,
     "metadata": {},
     "output_type": "execute_result"
    }
   ],
   "source": [
    "home['user_id'].nunique()"
   ]
  }
 ],
 "metadata": {
  "language_info": {
   "name": "python"
  }
 },
 "nbformat": 4,
 "nbformat_minor": 2
}
